{
 "cells": [
  {
   "cell_type": "markdown",
   "metadata": {},
   "source": [
    "# Validação do Modelo Teoria de Movimentos\r\n",
    "\r\n",
    "O objetivo é validar o cálculo de: \r\n",
    "* pernadas (P's) \r\n",
    "* runs, tamanho máximo do run e marcação de direcional\r\n",
    "* pontos auxiliares - aqueles a partir do qual acumulamos informações \r\n",
    "\r\n",
    "A teoria está detalhada no arquivo Neutrino/TeoriaDosMovimentos.pptx  \r\n",
    "Escrito por Gui Lamacie (gui.lamacie@gmail.com) em fev/21.\r\n",
    "\r\n",
    "### Desejem-nos sorte,  \r\n",
    "## Tha & Gui (P2 Investments)\r\n",
    "\r\n",
    "\r\n",
    "\r\n",
    "\r\n",
    "\r\n"
   ]
  },
  {
   "cell_type": "code",
   "execution_count": null,
   "metadata": {},
   "outputs": [],
   "source": [
    "import os\r\n",
    "import numpy as np\r\n",
    "import pandas as pd\r\n",
    "pd.set_option('display.max_columns',100)\r\n",
    "pd.set_option('precision', 3)\r\n",
    "pd.set_option('display.float_format', lambda x: '%.3f' % x)\r\n",
    "\r\n",
    "DEBUG = True\r\n",
    "d_path = { 'valida': '..\\\\neutrino-lab\\\\historical_files\\\\', \r\n",
    "           'train': '..\\\\neutrino-lab\\\\historical_files\\\\TrainFiles\\\\',\r\n",
    "           'test': '..\\\\neutrino-lab\\\\historical_files\\\\TestFiles\\\\'}\r\n",
    "\r\n",
    "# s_R1 = 'R1_1_test' # ou 'R1_1', 'R1_2', 'R1\r\n",
    "df_valida = pd.DataFrame()\r\n",
    "df_train = pd.DataFrame()\r\n",
    "df_test = pd.DataFrame()\r\n",
    "\r\n",
    "# import files \r\n",
    "l_dir = os.listdir(d_path['valida'])\r\n",
    "d_type = 'df_p'\r\n",
    "l_file = [_file for _file in l_dir if d_type in _file][0]\r\n",
    "df_p = pd.read_csv(os.path.join(d_path['valida'], l_file))\r\n",
    "\r\n",
    "d_type = 'ft_trades_oo'\r\n",
    "l_file = [_file for _file in l_dir if d_type in _file][0]\r\n",
    "df_trades = pd.read_csv(os.path.join(d_path['valida'], l_file))\r\n",
    "\r\n",
    "# d_type = 'ft_book'\r\n",
    "# l_file = [_file for _file in l_dir if d_type in _file][0]\r\n",
    "# df_books = pd.read_csv(os.path.join(d_path['valida'], l_file))\r\n",
    "\r\n",
    "# TEST: df_trades.isnan().any()\r\n"
   ]
  },
  {
   "cell_type": "code",
   "execution_count": null,
   "metadata": {},
   "outputs": [],
   "source": [
    "df_trades.head()"
   ]
  },
  {
   "cell_type": "code",
   "execution_count": null,
   "metadata": {},
   "outputs": [],
   "source": [
    "df_trades.isnan().any()"
   ]
  }
 ],
 "metadata": {
  "kernelspec": {
   "display_name": "Python 3.6.9 64-bit ('ngym36': conda)",
   "metadata": {
    "interpreter": {
     "hash": "92a1e8e29e36a4d10f06e84a7cfbde01023337de0ac905405c710d694625de77"
    }
   },
   "name": "python3"
  },
  "language_info": {
   "codemirror_mode": {
    "name": "ipython",
    "version": 3
   },
   "file_extension": ".py",
   "mimetype": "text/x-python",
   "name": "python",
   "nbconvert_exporter": "python",
   "pygments_lexer": "ipython3",
   "version": "3.6.9"
  },
  "orig_nbformat": 2
 },
 "nbformat": 4,
 "nbformat_minor": 2
}