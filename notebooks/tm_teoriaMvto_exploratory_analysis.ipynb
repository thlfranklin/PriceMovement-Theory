{
  "cells": [
    {
      "cell_type": "markdown",
      "metadata": {},
      "source": [
        "# Exploratory Analysis \r\n"
      ]
    },
    {
      "cell_type": "code",
      "execution_count": 2,
      "metadata": {
        "execution": {
          "iopub.execute_input": "2021-04-02T17:59:07.160Z",
          "iopub.status.busy": "2021-04-02T17:59:07.151Z",
          "iopub.status.idle": "2021-04-02T17:59:08.465Z",
          "shell.execute_reply": "2021-04-02T17:59:08.582Z"
        }
      },
      "outputs": [
        {
          "name": "stdout",
          "output_type": "stream",
          "text": [
            "     date_trd  update             time  pagg_c_best  pagg_v_best  \\\n",
            "0  2021-01-04   51927  09:15:04.122000            0            0   \n",
            "1  2021-01-04   58765  09:17:01.968000            1            0   \n",
            "2  2021-01-04   60984  09:17:36.702000            1            0   \n",
            "3  2021-01-04   65415  09:19:04.226000            0            0   \n",
            "4  2021-01-04   72073  09:21:30.944000            1            1   \n",
            "\n",
            "   pagg_c_best_0.5  pagg_c_best_0.7  pagg_c_best_0.9  pagg_v_best_0.5  \\\n",
            "0              0.0              0.0              0.0              0.0   \n",
            "1              0.0              0.0              0.0              0.0   \n",
            "2              0.0              0.0              0.0              0.0   \n",
            "3              0.0              0.0              0.0              0.0   \n",
            "4              0.0              0.0              0.0              0.0   \n",
            "\n",
            "   pagg_v_best_0.7  ...  movesc_ask_4.5_0.5  movesc_bid_4.5_0.7  \\\n",
            "0              0.0  ...            0.000000           -0.408333   \n",
            "1              0.0  ...            0.003906           -0.111111   \n",
            "2              0.0  ...           -1.833333            0.175000   \n",
            "3              0.0  ...            1.500000           -0.050000   \n",
            "4              0.0  ...           -0.166667           -0.187500   \n",
            "\n",
            "   movesc_ask_4.5_0.7  movesc_bid_4.5_0.9  movesc_ask_4.5_0.9   msg_imb  \\\n",
            "0            0.000000           -0.525000            0.000000  0.272727   \n",
            "1            0.029412           -0.111111            0.132860 -0.061224   \n",
            "2           -1.833333            0.225000           -1.833333  0.074074   \n",
            "3            1.500000           -0.050000            1.500000  0.428571   \n",
            "4           -0.166667           -0.187500           -0.166667  0.512195   \n",
            "\n",
            "   smartprice_dif  sspread_mean  model    y  \n",
            "0        0.897363      1.885172  mw_up  1.0  \n",
            "1        1.379515      2.217682  mw_up  0.0  \n",
            "2        1.760923      2.240164  mw_up  1.0  \n",
            "3       -0.022538      2.205635  mw_up  0.0  \n",
            "4        1.375446      2.158941  mw_up  0.0  \n",
            "\n",
            "[5 rows x 118 columns]\n"
          ]
        }
      ],
      "source": [
        "import pandas as pd\r\n",
        "\r\n",
        "s_path = '..\\\\neutrino-lab\\\\historical_files\\\\TrainFiles\\\\'\r\n",
        "\r\n",
        "d_model = {}\r\n",
        "d_model['mup'] = pd.read_csv(s_path + 'mup.csv')\r\n",
        "d_model['mdown'] = pd.read_csv(s_path + 'mdown.csv')\r\n",
        "d_model['miup'] = pd.read_csv(s_path + 'miup.csv')\r\n",
        "d_model['midown'] = pd.read_csv(s_path + 'midown.csv')\r\n",
        "d_model['mwup'] = pd.read_csv(s_path + 'mwup.csv')\r\n",
        "d_model['mwdown'] = pd.read_csv(s_path + 'mwdown.csv')\r\n",
        "d_model['mdup'] = pd.read_csv(s_path + 'mdup.csv')\r\n",
        "d_model['mddown'] = pd.read_csv(s_path + 'mddown.csv')\r\n",
        "\r\n",
        "cols = d_model['mup'].columns.to_list()[:-2] \r\n",
        "print(d_model['mup'].head())"
      ]
    },
    {
      "cell_type": "markdown",
      "metadata": {
        "nteract": {
          "transient": {
            "deleting": false
          }
        }
      },
      "source": [
        "## MUTUAL INFORMATION "
      ]
    },
    {
      "cell_type": "code",
      "execution_count": 3,
      "metadata": {
        "execution": {
          "iopub.execute_input": "2021-04-02T17:59:24.363Z",
          "iopub.status.busy": "2021-04-02T17:59:24.352Z",
          "iopub.status.idle": "2021-04-02T17:59:48.715Z",
          "shell.execute_reply": "2021-04-02T17:59:48.699Z"
        }
      },
      "outputs": [],
      "source": [
        "import matplotlib.pyplot as plt \n",
        "\n",
        "from sklearn.feature_selection import mutual_info_classif\n",
        "\n",
        "def make_mi_scores_c(X, y, discrete_features='auto'):\n",
        "    mi_scores = mutual_info_classif(X, y, discrete_features=discrete_features)\n",
        "    mi_scores = pd.Series(mi_scores, name=\"MI Scores\", index=X.columns)\n",
        "    mi_scores = mi_scores.sort_values(ascending=False)\n",
        "    return mi_scores\n",
        "\n",
        "dx = {}\n",
        "dy = {}\n",
        "dmi = {}\n",
        "\n",
        "for md in d_model:\n",
        "  dx[md] = d_model[md][cols].set_index(['date_trd','update','time']).fillna(0)\n",
        "  dy[md] = d_model[md]['y']\n",
        "  dmi[md] = make_mi_scores_c(dx[md], dy[md])\n"
      ]
    },
    {
      "cell_type": "markdown",
      "metadata": {},
      "source": [
        "### Export Mutual Information\r\n"
      ]
    },
    {
      "cell_type": "code",
      "execution_count": null,
      "metadata": {
        "collapsed": true,
        "execution": {
          "iopub.execute_input": "2021-04-02T18:01:44.449Z",
          "iopub.status.busy": "2021-04-02T18:01:44.443Z"
        },
        "jupyter": {
          "outputs_hidden": false,
          "source_hidden": false
        },
        "nteract": {
          "transient": {
            "deleting": false
          }
        }
      },
      "outputs": [],
      "source": [
        "dmi[md].csv('mutual_info_' + {}.format(md))"
      ]
    },
    {
      "cell_type": "code",
      "execution_count": 5,
      "metadata": {
        "collapsed": true,
        "execution": {
          "iopub.execute_input": "2021-04-02T18:02:04.433Z",
          "iopub.status.busy": "2021-04-02T18:02:04.423Z",
          "iopub.status.idle": "2021-04-02T18:02:04.455Z",
          "shell.execute_reply": "2021-04-02T18:02:04.462Z"
        },
        "jupyter": {
          "outputs_hidden": false,
          "source_hidden": false
        },
        "nteract": {
          "transient": {
            "deleting": false
          }
        }
      },
      "outputs": [
        {
          "name": "stdout",
          "output_type": "stream",
          "text": [
            "movesc_bid_2.5_0.9    0.022323\n",
            "smartprice_dif        0.021622\n",
            "movesc_ask_3.5_0.5    0.018192\n",
            "msg_imb               0.016836\n",
            "int_c_0.9             0.015938\n",
            "                        ...   \n",
            "chgfreq               0.000000\n",
            "loc_aggbig_saldo_d    0.000000\n",
            "loc_aggbig_saldo_m    0.000000\n",
            "abs_v                 0.000000\n",
            "movesc_ask_3.5        0.000000\n",
            "Name: MI Scores, Length: 113, dtype: float64\n"
          ]
        }
      ],
      "source": [
        "print(dmi[md])"
      ]
    },
    {
      "cell_type": "code",
      "execution_count": null,
      "metadata": {
        "collapsed": true,
        "jupyter": {
          "outputs_hidden": false,
          "source_hidden": false
        },
        "nteract": {
          "transient": {
            "deleting": false
          }
        }
      },
      "outputs": [],
      "source": []
    }
  ],
  "metadata": {
    "kernelspec": {
      "display_name": "Python 3.6.13 64-bit",
      "name": "python3613jvsc74a57bd092a1e8e29e36a4d10f06e84a7cfbde01023337de0ac905405c710d694625de77"
    },
    "language_info": {
      "codemirror_mode": {
        "name": "ipython",
        "version": 3
      },
      "file_extension": ".py",
      "mimetype": "text/x-python",
      "name": "python",
      "nbconvert_exporter": "python",
      "pygments_lexer": "ipython3",
      "version": "3.6.13"
    },
    "nteract": {
      "version": "0.28.0"
    },
    "orig_nbformat": 2
  },
  "nbformat": 4,
  "nbformat_minor": 2
}